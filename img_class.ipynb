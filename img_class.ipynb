{
 "cells": [
  {
   "cell_type": "code",
   "execution_count": 17,
   "id": "ea147e44-2c3d-4d01-96d4-9412c18d2910",
   "metadata": {},
   "outputs": [
    {
     "name": "stdout",
     "output_type": "stream",
     "text": [
      "86.36363636363636% de las muestras fueron correctamente clasificadas.\n"
     ]
    }
   ],
   "source": [
    "import os\n",
    "import pickle\n",
    "from skimage.io import imread\n",
    "from skimage.transform import resize\n",
    "from sklearn.model_selection import train_test_split\n",
    "from sklearn.model_selection import GridSearchCV\n",
    "from sklearn.svm import SVC\n",
    "from sklearn.metrics import accuracy_score\n",
    "import numpy as np\n",
    "\n",
    "\n",
    "input_dir = os.getcwd()\n",
    "categories = ['genuino', 'no_genuino']\n",
    "\n",
    "data = []\n",
    "labels = []\n",
    "\n",
    "# Cargamos imagenes divididas en dos carpetas, una de cada\n",
    "# categoria. Se redimensionan y serializan.\n",
    "for category_idx, category in enumerate(categories):\n",
    "    for file in os.listdir(os.path.join(input_dir, category)):\n",
    "        img_path = os.path.join(input_dir, category, file)\n",
    "        img = imread(img_path)\n",
    "        img = resize(img, (30, 30))\n",
    "        data.append(img.flatten())   # Flatted genera array unidimensional\n",
    "        labels.append(category_idx)  # necesario para este modelo.\n",
    "data = np.asarray(data)\n",
    "\n",
    "# Preparamos el set de entrenamiento y prueba.\n",
    "x_train, x_test, y_train, y_test = train_test_split(\n",
    "    data, labels, test_size=0.2, shuffle=True, stratify=labels)\n",
    "\n",
    "# Entrenamos el modelo.\n",
    "classifier = SVC()\n",
    "\n",
    "# Prueba de hyperparametros para el modelo utilizado.\n",
    "parameters = [{'gamma': [0.01, 0.001, 0.0001], 'C': [1, 10, 100, 1000]}]\n",
    "grid_search = GridSearchCV(classifier, parameters)\n",
    "grid_search.fit(x_train, y_train)\n",
    "best_estimator = grid_search.best_estimator_\n",
    "\n",
    "# Predecimos y comparamos. Tomamos metricas de eficiencia.\n",
    "y_prediction = best_estimator.predict(x_test)\n",
    "score = accuracy_score(y_prediction, y_test)\n",
    "msg = '{}% de las muestras fueron correctamente clasificadas.'\n",
    "print(msg.format(str(score * 100)))\n",
    "\n",
    "# Almaceno modelo para futura utilizacion\n",
    "pickle.dump(best_estimator, open('./model.p', 'wb'))"
   ]
  },
  {
   "cell_type": "code",
   "execution_count": null,
   "id": "70afa79c-a777-453f-b008-4d635da4a2bf",
   "metadata": {},
   "outputs": [],
   "source": []
  }
 ],
 "metadata": {
  "kernelspec": {
   "display_name": "imgClass",
   "language": "python",
   "name": "imgclass"
  },
  "language_info": {
   "codemirror_mode": {
    "name": "ipython",
    "version": 3
   },
   "file_extension": ".py",
   "mimetype": "text/x-python",
   "name": "python",
   "nbconvert_exporter": "python",
   "pygments_lexer": "ipython3",
   "version": "3.12.0"
  }
 },
 "nbformat": 4,
 "nbformat_minor": 5
}
